{
 "cells": [
  {
   "cell_type": "markdown",
   "id": "348c4a35",
   "metadata": {},
   "source": [
    "# AB Testing Final Project Udacity\n",
    "## Sample Size, Alpha, and Power\n",
    "\n",
    "#### In this section, I compute the required sample size by using my own functions, instead of using the on-line calculator.\n",
    "Note: There will be a small discrepancy between the on-line calculator and the value computed by me.\n",
    "\n",
    "project description: https://docs.google.com/document/u/1/d/1aCquhIqsUApgsxQ8-SQBAigFDcfWVVohLEXcV6jWbdI/pub"
   ]
  },
  {
   "cell_type": "code",
   "execution_count": 1,
   "id": "a19adffd",
   "metadata": {},
   "outputs": [],
   "source": [
    "import pandas as pd\n",
    "import math\n",
    "from scipy.stats import norm\n",
    "# Tutorial of scipy.stats.norm\n",
    "# https://docs.scipy.org/doc/scipy/reference/generated/scipy.stats.norm.html"
   ]
  },
  {
   "cell_type": "code",
   "execution_count": 2,
   "id": "93434c8f",
   "metadata": {},
   "outputs": [
    {
     "data": {
      "text/plain": [
       "1.959963984540054"
      ]
     },
     "execution_count": 2,
     "metadata": {},
     "output_type": "execute_result"
    }
   ],
   "source": [
    "#### Function - get the Z star as the statistical threshold\n",
    "def get_Z_star(alpha):\n",
    "    \"\"\"\n",
    "    alpha: the probability to make type 1 error. That is, Null hypothesis is rejected, when Null hypothesis is true.   \n",
    "    return: the standard error (SE) of difference between control and experiment\n",
    "    \"\"\"\n",
    "    from scipy.stats import norm\n",
    "    return norm.ppf(1 - alpha/2)\n",
    "\n",
    "# Function test\n",
    "get_Z_star(0.05)"
   ]
  },
  {
   "cell_type": "code",
   "execution_count": 3,
   "id": "63b4699a",
   "metadata": {},
   "outputs": [],
   "source": [
    "#### Fuction:  The standard error used for hypothesis testing of difference in proportions \n",
    "def get_SE_of_difference(prob_baseline, size):\n",
    "    \"\"\"\n",
    "    prob_baseline: baseline probability - this is the expected probability by default or in the control group.\n",
    "    size: the denominator of baseline probability\n",
    "    return: the standard error (SE) of difference between control and experiment\n",
    "    \"\"\"\n",
    "    \n",
    "    # This is the standard error for difference, so we use pooled standard error equation with the same size in each group!\n",
    "    # We also assume that two groups (control and experiment) will have the same numerator and denominator.\n",
    "    # Thus, the pooled probability will be the same as baseline.\n",
    "    p_pooled = prob_baseline\n",
    "    SE = math.sqrt(  ( p_pooled*(1-p_pooled)*(1/size + 1/size)   ) )\n",
    "    return SE"
   ]
  },
  {
   "cell_type": "markdown",
   "id": "ba52c119",
   "metadata": {},
   "source": [
    "## Size  -  Gross Conversion , dmin = 0.01\n",
    "GC = n_enroll / n_click  = Probability of enrolling, given click  = 0.206250"
   ]
  },
  {
   "cell_type": "code",
   "execution_count": 4,
   "id": "3e0a84e1",
   "metadata": {},
   "outputs": [
    {
     "name": "stdout",
     "output_type": "stream",
     "text": [
      "Required Sample Size in each group, using online-calculator: N= 25835\n"
     ]
    }
   ],
   "source": [
    "#### use on-line calculator (https://www.evanmiller.org/ab-testing/sample-size.html)\n",
    "print(\"Required Sample Size in each group, using online-calculator: N=\", 25835)"
   ]
  },
  {
   "cell_type": "code",
   "execution_count": 5,
   "id": "80d95f31",
   "metadata": {},
   "outputs": [
    {
     "name": "stdout",
     "output_type": "stream",
     "text": [
      "Required Sample Size in each group: N= 25699\n"
     ]
    }
   ],
   "source": [
    "#### Parameters\n",
    "dmin = 0.01\n",
    "alpha = 0.05\n",
    "beta= 0.2\n",
    "p=0.20625 # baseline probability\n",
    "\n",
    "#### Iterate through the sample size (n) in one group from 1 to 1,000,000\n",
    "for n in range(1, 1000000):\n",
    "    \n",
    "    # Get the Z star at the alpha/2\n",
    "    z_star = get_Z_star(alpha)\n",
    "    \n",
    "    # Get the standard error of difference between two groups.\n",
    "    SE = get_SE_of_difference(prob_baseline=p, size=n)\n",
    "    \n",
    "    # Estimate the beta by using the z_star and the SE\n",
    "    # Note: cdf = Cumulative distribution function\n",
    "    estimated_beta = norm.cdf(x=z_star , loc= dmin/SE , scale=1) \n",
    "    \n",
    "    if estimated_beta <= beta :\n",
    "        print('Required Sample Size in each group: N=', n)\n",
    "        break  "
   ]
  },
  {
   "cell_type": "markdown",
   "id": "64a93e3f",
   "metadata": {},
   "source": [
    "## Size - Retention, dmin = 0.01\n",
    "RT = (n of payment) / n_enroll = Probability of payment, given enroll = 0.530000"
   ]
  },
  {
   "cell_type": "code",
   "execution_count": 6,
   "id": "332121ca",
   "metadata": {},
   "outputs": [
    {
     "name": "stdout",
     "output_type": "stream",
     "text": [
      "Required Sample Size in each group, using online-calculator: N= 39115\n"
     ]
    }
   ],
   "source": [
    "#### use on-line calculator (https://www.evanmiller.org/ab-testing/sample-size.html)\n",
    "print(\"Required Sample Size in each group, using online-calculator: N=\", 39115)"
   ]
  },
  {
   "cell_type": "code",
   "execution_count": 7,
   "id": "bf52348d",
   "metadata": {},
   "outputs": [
    {
     "name": "stdout",
     "output_type": "stream",
     "text": [
      "Required Sample Size in each group: N= 39104\n"
     ]
    }
   ],
   "source": [
    "#### Use my formula\n",
    "dim = 0.01\n",
    "alpha = 0.05\n",
    "beta= 0.2\n",
    "p=0.53\n",
    "\n",
    "for n in range(1, 1000000):\n",
    "    z_star = get_Z_star(alpha)\n",
    "    SE = get_SE_of_difference(prob_baseline=p, size=n)\n",
    "    estimated_beta = norm.cdf(x=z_star , loc= dim/SE , scale=1)\n",
    "    \n",
    "    if estimated_beta < beta :\n",
    "        print('Required Sample Size in each group: N=', n)\n",
    "        break "
   ]
  },
  {
   "cell_type": "markdown",
   "id": "87f3c9b3",
   "metadata": {},
   "source": [
    "## Size - Net Conversion, dmin = 0.0075\n",
    "NC =  (n of payment) / n_click = Probability of payment, given click = 0.109313"
   ]
  },
  {
   "cell_type": "code",
   "execution_count": 8,
   "id": "fb85cc7f",
   "metadata": {},
   "outputs": [
    {
     "name": "stdout",
     "output_type": "stream",
     "text": [
      "Required Sample Size in each group, using online-calculator: N= 27413\n"
     ]
    }
   ],
   "source": [
    "#### use on-line calculator (https://www.evanmiller.org/ab-testing/sample-size.html)\n",
    "print(\"Required Sample Size in each group, using online-calculator: N=\", 27413)"
   ]
  },
  {
   "cell_type": "code",
   "execution_count": 9,
   "id": "8e733755",
   "metadata": {},
   "outputs": [
    {
     "name": "stdout",
     "output_type": "stream",
     "text": [
      "Required Sample Size in each group: N= 27172\n"
     ]
    }
   ],
   "source": [
    "#### Use my formula\n",
    "dim = 0.0075\n",
    "alpha = 0.05\n",
    "beta= 0.2\n",
    "p= 0.109313\n",
    "\n",
    "for n in range(1, 1000000):\n",
    "    z_star = get_Z_star(alpha)\n",
    "    SE = get_SE_of_difference(prob_baseline=p, size=n)\n",
    "    estimated_beta = norm.cdf(x=z_star , loc= dim/SE , scale=1)\n",
    "    \n",
    "    if estimated_beta < beta :\n",
    "        print('Required Sample Size in each group: N=', n)\n",
    "        break "
   ]
  },
  {
   "cell_type": "code",
   "execution_count": null,
   "id": "aa225b97",
   "metadata": {},
   "outputs": [],
   "source": []
  }
 ],
 "metadata": {
  "kernelspec": {
   "display_name": "Python 3 (ipykernel)",
   "language": "python",
   "name": "python3"
  },
  "language_info": {
   "codemirror_mode": {
    "name": "ipython",
    "version": 3
   },
   "file_extension": ".py",
   "mimetype": "text/x-python",
   "name": "python",
   "nbconvert_exporter": "python",
   "pygments_lexer": "ipython3",
   "version": "3.8.5"
  }
 },
 "nbformat": 4,
 "nbformat_minor": 5
}
